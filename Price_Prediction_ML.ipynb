{
  "nbformat": 4,
  "nbformat_minor": 0,
  "metadata": {
    "colab": {
      "provenance": [],
      "gpuType": "T4"
    },
    "kernelspec": {
      "name": "python3",
      "display_name": "Python 3"
    },
    "language_info": {
      "name": "python"
    },
    "accelerator": "GPU"
  },
  "cells": [
    {
      "cell_type": "markdown",
      "source": [
        "### 1. Install Dependencies"
      ],
      "metadata": {
        "id": "V0LNQCp77_QS"
      }
    },
    {
      "cell_type": "code",
      "source": [
        "!pip install pandas scikit-learn -qq"
      ],
      "metadata": {
        "id": "4WHAFT8R8EJO"
      },
      "execution_count": null,
      "outputs": []
    },
    {
      "cell_type": "markdown",
      "source": [
        "### 2. Import Dependencies"
      ],
      "metadata": {
        "id": "FVwM96Bo7_Mw"
      }
    },
    {
      "cell_type": "code",
      "source": [
        "# Read the csv files\n",
        "import pandas as pd\n",
        "# Import dependencies for generating our model\n",
        "from sklearn.model_selection import train_test_split, cross_val_score\n",
        "from sklearn.preprocessing import LabelEncoder\n",
        "from sklearn.linear_model import LinearRegression\n",
        "from sklearn.tree import DecisionTreeRegressor\n",
        "from sklearn.ensemble import RandomForestRegressor\n",
        "from sklearn.metrics import mean_absolute_error, make_scorer"
      ],
      "metadata": {
        "id": "qFdigGtx8bgk"
      },
      "execution_count": null,
      "outputs": []
    },
    {
      "cell_type": "code",
      "source": [
        "df = pd.read_csv('mobile_prices_2023.csv')"
      ],
      "metadata": {
        "id": "4K80uG8E81Rj"
      },
      "execution_count": null,
      "outputs": []
    },
    {
      "cell_type": "code",
      "source": [
        "#checking for null values\n",
        "df.isna().sum()"
      ],
      "metadata": {
        "id": "-CaQckNnqTrb"
      },
      "execution_count": null,
      "outputs": []
    },
    {
      "cell_type": "code",
      "source": [
        "df.dropna()"
      ],
      "metadata": {
        "id": "kpDzHLHvqZLj"
      },
      "execution_count": null,
      "outputs": []
    },
    {
      "cell_type": "code",
      "source": [
        "# List of all features in the CSV\n",
        "list = [\"Phone Name\",\"Rating ?/5\" ,\"Number of Ratings\",\"RAM\",\"ROM/Storage\",\"Back/Rare Camera\",\"Front Camera\" ,\"Battery\" ,\"Processor\" ,\"Price in INR\",\"Date of Scraping\"]\n",
        "# Encoding\n",
        "le=LabelEncoder()\n",
        "for i in list:\n",
        "    df[i]=le.fit_transform(df[i])"
      ],
      "metadata": {
        "id": "vzyxWjy9A6wT"
      },
      "execution_count": null,
      "outputs": []
    },
    {
      "cell_type": "markdown",
      "source": [
        "### 3. Feature Selection"
      ],
      "metadata": {
        "id": "P_Jd64Rk7_KD"
      }
    },
    {
      "cell_type": "code",
      "source": [
        "X = df[['Number of Ratings', 'RAM', 'ROM/Storage', 'Back/Rare Camera', 'Front Camera', 'Battery', 'Processor']]\n",
        "y = df['Price in INR']"
      ],
      "metadata": {
        "id": "_1djX_IO9itF"
      },
      "execution_count": null,
      "outputs": []
    },
    {
      "cell_type": "markdown",
      "source": [
        "### 4. Define Our Models"
      ],
      "metadata": {
        "id": "Y1dlUnXC7_HR"
      }
    },
    {
      "cell_type": "code",
      "source": [
        "models = {\n",
        "    'Linear Regression': LinearRegression(),\n",
        "    'Decision Tree Regression': DecisionTreeRegressor(),\n",
        "    'Random Forest Regression': RandomForestRegressor()\n",
        "}"
      ],
      "metadata": {
        "id": "OviBl-aM-JPc"
      },
      "execution_count": null,
      "outputs": []
    },
    {
      "cell_type": "markdown",
      "source": [
        "### 5. Train and Evaluate Models"
      ],
      "metadata": {
        "id": "oMz_-OQM7_El"
      }
    },
    {
      "cell_type": "code",
      "source": [
        "best_model = None\n",
        "best_accuracy = 0.0\n",
        "scorer = make_scorer(mean_absolute_error, greater_is_better=False)"
      ],
      "metadata": {
        "id": "NlCsPROn-Z9S"
      },
      "execution_count": null,
      "outputs": []
    },
    {
      "cell_type": "code",
      "source": [
        "for model_name, model in models.items():\n",
        "    cv_scores = cross_val_score(model, X, y, cv=5, scoring=scorer)\n",
        "    mean_accuracy = -cv_scores.mean()  # Cross_val_score returns negative MAE for scoring='neg_mean_absolute_error'\n",
        "    print(f'{model_name} - Mean Absolute Error: {mean_accuracy}')\n",
        "\n",
        "    if mean_accuracy > best_accuracy:\n",
        "        best_model = model\n",
        "        best_accuracy = mean_accuracy"
      ],
      "metadata": {
        "colab": {
          "base_uri": "https://localhost:8080/"
        },
        "id": "qGyMKd_H-o2p",
        "outputId": "b39e63e3-3957-47dc-e7ce-732bced70144"
      },
      "execution_count": null,
      "outputs": [
        {
          "output_type": "stream",
          "name": "stdout",
          "text": [
            "Linear Regression - Mean Absolute Error: 129.2812414961295\n",
            "Decision Tree Regression - Mean Absolute Error: 126.0067163885457\n",
            "Random Forest Regression - Mean Absolute Error: 102.92226558610673\n"
          ]
        }
      ]
    },
    {
      "cell_type": "markdown",
      "source": [
        "### 6. Train the best model on the entire dataset (optional)"
      ],
      "metadata": {
        "id": "qmyG7TAJ7_Bx"
      }
    },
    {
      "cell_type": "code",
      "source": [
        "best_model.fit(X, y)"
      ],
      "metadata": {
        "id": "GkLzahVDrgMG"
      },
      "execution_count": null,
      "outputs": []
    },
    {
      "cell_type": "markdown",
      "source": [
        "### 7. Prediction"
      ],
      "metadata": {
        "id": "Xu-rO8jvruUz"
      }
    },
    {
      "cell_type": "code",
      "source": [
        "new_mobile_features = [[33561, 2, 32, 8, 5, 5000, 2.0]]  # Replace this with new mobile features\n",
        "predicted_price = best_model.predict(new_mobile_features)\n",
        "print('Best Model:', best_model.__class__.__name__)\n",
        "print('Predicted Price:', predicted_price)"
      ],
      "metadata": {
        "id": "hxpBmteVrifl"
      },
      "execution_count": null,
      "outputs": []
    },
    {
      "cell_type": "markdown",
      "source": [
        "### 8. Save the Model"
      ],
      "metadata": {
        "id": "-75vbvClsaww"
      }
    },
    {
      "cell_type": "code",
      "source": [
        "import joblib"
      ],
      "metadata": {
        "id": "pkLigNIwsu2W"
      },
      "execution_count": null,
      "outputs": []
    },
    {
      "cell_type": "code",
      "source": [
        "joblib.dump(best_model, 'best_model.pkl')"
      ],
      "metadata": {
        "id": "sU2DKzZCsc8M"
      },
      "execution_count": null,
      "outputs": []
    }
  ]
}